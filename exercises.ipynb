{
 "cells": [
  {
   "cell_type": "markdown",
   "id": "097f1142-78da-48db-87db-506183885a11",
   "metadata": {},
   "source": [
    "# Exercises from Introduction to Computation and Programming Using Python by John V. Guttag\n",
    "\n",
    "From MIT [OpenCourseWare](https://ocw.mit.edu/courses/6-0001-introduction-to-computer-science-and-programming-in-python-fall-2016)."
   ]
  },
  {
   "cell_type": "markdown",
   "id": "0486ec0c-cc98-433d-adcc-16a20d12bbf9",
   "metadata": {},
   "source": [
    "### Replace the comment in the following code with a while loop\n",
    "\n",
    "```\n",
    "num_x = int(input('How many times should I print the letter X?'))\n",
    "to_print = ''\n",
    "#concatenate X to to_print num_x times\n",
    "print(to_print)\n",
    "```"
   ]
  },
  {
   "cell_type": "code",
   "execution_count": 6,
   "id": "203b3290-6bcf-4144-9ec0-b5af2f690884",
   "metadata": {},
   "outputs": [
    {
     "name": "stdin",
     "output_type": "stream",
     "text": [
      "How many times should I print the letter X? 99\n"
     ]
    },
    {
     "name": "stdout",
     "output_type": "stream",
     "text": [
      "XXXXXXXXXXXXXXXXXXXXXXXXXXXXXXXXXXXXXXXXXXXXXXXXXXXXXXXXXXXXXXXXXXXXXXXXXXXXXXXXXXXXXXXXXXXXXXXXXXX\n"
     ]
    }
   ],
   "source": [
    "num_x = int(input('How many times should I print the letter X?'))\n",
    "to_print = ''\n",
    "while num_x != 0:\n",
    "    to_print += \"X\"\n",
    "    num_x -= 1\n",
    "print(to_print)\n"
   ]
  },
  {
   "cell_type": "markdown",
   "id": "8a21b96a-dc5f-4210-9b69-ffd259672844",
   "metadata": {},
   "source": [
    "### Write a program that asks the user to input 5 integers and then prints the largest odd number that was entered. If no odd number was entered, it should print a message to that effect."
   ]
  },
  {
   "cell_type": "code",
   "execution_count": 17,
   "id": "356c0b55-a55d-4d0a-a83c-b9894a66d10f",
   "metadata": {},
   "outputs": [
    {
     "name": "stdin",
     "output_type": "stream",
     "text": [
      "Please insert your first number 32\n",
      "Please insert your second number 4\n",
      "Please insert your third number 11\n",
      "Please insert your fourth number 3\n",
      "Please insert your fifth number 2\n"
     ]
    },
    {
     "name": "stdout",
     "output_type": "stream",
     "text": [
      "11\n"
     ]
    }
   ],
   "source": [
    "largest_odd = 0\n",
    "num_1 = int(input('Please insert your first number'))\n",
    "num_2 = int(input('Please insert your second number'))\n",
    "num_3 = int(input('Please insert your third number'))\n",
    "num_4 = int(input('Please insert your fourth number'))\n",
    "num_5 = int(input('Please insert your fifth number'))\n",
    "if num_1 % 2 != 0:\n",
    "    largest_odd = num_1\n",
    "if num_2 % 2 != 0 and num_2 > largest_odd:\n",
    "    largest_odd = num_2\n",
    "if num_3 % 2 != 0 and num_3 > largest_odd:\n",
    "    largest_odd = num_3\n",
    "if num_4 % 2 != 0 and num_4 > largest_odd:\n",
    "    largest_odd = num_4\n",
    "if num_5 % 2 != 0 and num_5 > largest_odd:\n",
    "    largest_odd = num_5\n",
    "if largest_odd != 0:\n",
    "    print(largest_odd)\n",
    "else:\n",
    "    print('These are all even numbers!')"
   ]
  }
 ],
 "metadata": {
  "kernelspec": {
   "display_name": "Python 3 (ipykernel)",
   "language": "python",
   "name": "python3"
  },
  "language_info": {
   "codemirror_mode": {
    "name": "ipython",
    "version": 3
   },
   "file_extension": ".py",
   "mimetype": "text/x-python",
   "name": "python",
   "nbconvert_exporter": "python",
   "pygments_lexer": "ipython3",
   "version": "3.10.8"
  }
 },
 "nbformat": 4,
 "nbformat_minor": 5
}
